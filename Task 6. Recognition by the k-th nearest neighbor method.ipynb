{
 "cells": [
  {
   "cell_type": "markdown",
   "id": "liked-treaty",
   "metadata": {},
   "source": [
    "# Распознование методом k-го ближайшего соседа\n",
    "\n",
    "**Выполнила:** Медведева Ольга Игоревна\n",
    "\n",
    "**Вариант:** 2\n",
    "\n",
    "**Данные:** default of credit card clients\n",
    "\n",
    "**Задание:** \n",
    "- Для распознавания использовать метод к-го ближайшего соседа\n",
    "- Выбрать критерий качества\n",
    "- Построить модель для распознавания целевой переменной (отклика) "
   ]
  },
  {
   "cell_type": "code",
   "execution_count": 1,
   "id": "fundamental-peter",
   "metadata": {},
   "outputs": [],
   "source": [
    "#  Активируем библиотеки\n",
    "\n",
    "import numpy as np\n",
    "import pandas as pd\n",
    "\n",
    "import matplotlib\n",
    "import matplotlib.pyplot as plt\n",
    "matplotlib.style.use('ggplot')\n",
    "%matplotlib inline\n",
    "\n",
    "import os\n",
    "\n",
    "from sklearn.model_selection import train_test_split\n",
    "from sklearn.preprocessing import StandardScaler\n",
    "from sklearn.neighbors import KNeighborsClassifier\n",
    "from sklearn.metrics import confusion_matrix, accuracy_score, classification_report"
   ]
  },
  {
   "cell_type": "code",
   "execution_count": 2,
   "id": "lovely-masters",
   "metadata": {},
   "outputs": [
    {
     "data": {
      "text/html": [
       "<div>\n",
       "<style scoped>\n",
       "    .dataframe tbody tr th:only-of-type {\n",
       "        vertical-align: middle;\n",
       "    }\n",
       "\n",
       "    .dataframe tbody tr th {\n",
       "        vertical-align: top;\n",
       "    }\n",
       "\n",
       "    .dataframe thead th {\n",
       "        text-align: right;\n",
       "    }\n",
       "</style>\n",
       "<table border=\"1\" class=\"dataframe\">\n",
       "  <thead>\n",
       "    <tr style=\"text-align: right;\">\n",
       "      <th></th>\n",
       "      <th>LIMIT_BAL</th>\n",
       "      <th>SEX</th>\n",
       "      <th>EDUCATION</th>\n",
       "      <th>MARRIAGE</th>\n",
       "      <th>AGE</th>\n",
       "      <th>PAY_0</th>\n",
       "      <th>PAY_2</th>\n",
       "      <th>PAY_3</th>\n",
       "      <th>PAY_4</th>\n",
       "      <th>PAY_5</th>\n",
       "      <th>...</th>\n",
       "      <th>BILL_AMT4</th>\n",
       "      <th>BILL_AMT5</th>\n",
       "      <th>BILL_AMT6</th>\n",
       "      <th>PAY_AMT1</th>\n",
       "      <th>PAY_AMT2</th>\n",
       "      <th>PAY_AMT3</th>\n",
       "      <th>PAY_AMT4</th>\n",
       "      <th>PAY_AMT5</th>\n",
       "      <th>PAY_AMT6</th>\n",
       "      <th>default payment next month</th>\n",
       "    </tr>\n",
       "    <tr>\n",
       "      <th>ID</th>\n",
       "      <th></th>\n",
       "      <th></th>\n",
       "      <th></th>\n",
       "      <th></th>\n",
       "      <th></th>\n",
       "      <th></th>\n",
       "      <th></th>\n",
       "      <th></th>\n",
       "      <th></th>\n",
       "      <th></th>\n",
       "      <th></th>\n",
       "      <th></th>\n",
       "      <th></th>\n",
       "      <th></th>\n",
       "      <th></th>\n",
       "      <th></th>\n",
       "      <th></th>\n",
       "      <th></th>\n",
       "      <th></th>\n",
       "      <th></th>\n",
       "      <th></th>\n",
       "    </tr>\n",
       "  </thead>\n",
       "  <tbody>\n",
       "    <tr>\n",
       "      <th>1</th>\n",
       "      <td>20000</td>\n",
       "      <td>2</td>\n",
       "      <td>2</td>\n",
       "      <td>1</td>\n",
       "      <td>24</td>\n",
       "      <td>2</td>\n",
       "      <td>2</td>\n",
       "      <td>-1</td>\n",
       "      <td>-1</td>\n",
       "      <td>-2</td>\n",
       "      <td>...</td>\n",
       "      <td>0</td>\n",
       "      <td>0</td>\n",
       "      <td>0</td>\n",
       "      <td>0</td>\n",
       "      <td>689</td>\n",
       "      <td>0</td>\n",
       "      <td>0</td>\n",
       "      <td>0</td>\n",
       "      <td>0</td>\n",
       "      <td>1</td>\n",
       "    </tr>\n",
       "    <tr>\n",
       "      <th>2</th>\n",
       "      <td>120000</td>\n",
       "      <td>2</td>\n",
       "      <td>2</td>\n",
       "      <td>2</td>\n",
       "      <td>26</td>\n",
       "      <td>-1</td>\n",
       "      <td>2</td>\n",
       "      <td>0</td>\n",
       "      <td>0</td>\n",
       "      <td>0</td>\n",
       "      <td>...</td>\n",
       "      <td>3272</td>\n",
       "      <td>3455</td>\n",
       "      <td>3261</td>\n",
       "      <td>0</td>\n",
       "      <td>1000</td>\n",
       "      <td>1000</td>\n",
       "      <td>1000</td>\n",
       "      <td>0</td>\n",
       "      <td>2000</td>\n",
       "      <td>1</td>\n",
       "    </tr>\n",
       "    <tr>\n",
       "      <th>3</th>\n",
       "      <td>90000</td>\n",
       "      <td>2</td>\n",
       "      <td>2</td>\n",
       "      <td>2</td>\n",
       "      <td>34</td>\n",
       "      <td>0</td>\n",
       "      <td>0</td>\n",
       "      <td>0</td>\n",
       "      <td>0</td>\n",
       "      <td>0</td>\n",
       "      <td>...</td>\n",
       "      <td>14331</td>\n",
       "      <td>14948</td>\n",
       "      <td>15549</td>\n",
       "      <td>1518</td>\n",
       "      <td>1500</td>\n",
       "      <td>1000</td>\n",
       "      <td>1000</td>\n",
       "      <td>1000</td>\n",
       "      <td>5000</td>\n",
       "      <td>0</td>\n",
       "    </tr>\n",
       "    <tr>\n",
       "      <th>4</th>\n",
       "      <td>50000</td>\n",
       "      <td>2</td>\n",
       "      <td>2</td>\n",
       "      <td>1</td>\n",
       "      <td>37</td>\n",
       "      <td>0</td>\n",
       "      <td>0</td>\n",
       "      <td>0</td>\n",
       "      <td>0</td>\n",
       "      <td>0</td>\n",
       "      <td>...</td>\n",
       "      <td>28314</td>\n",
       "      <td>28959</td>\n",
       "      <td>29547</td>\n",
       "      <td>2000</td>\n",
       "      <td>2019</td>\n",
       "      <td>1200</td>\n",
       "      <td>1100</td>\n",
       "      <td>1069</td>\n",
       "      <td>1000</td>\n",
       "      <td>0</td>\n",
       "    </tr>\n",
       "    <tr>\n",
       "      <th>5</th>\n",
       "      <td>50000</td>\n",
       "      <td>1</td>\n",
       "      <td>2</td>\n",
       "      <td>1</td>\n",
       "      <td>57</td>\n",
       "      <td>-1</td>\n",
       "      <td>0</td>\n",
       "      <td>-1</td>\n",
       "      <td>0</td>\n",
       "      <td>0</td>\n",
       "      <td>...</td>\n",
       "      <td>20940</td>\n",
       "      <td>19146</td>\n",
       "      <td>19131</td>\n",
       "      <td>2000</td>\n",
       "      <td>36681</td>\n",
       "      <td>10000</td>\n",
       "      <td>9000</td>\n",
       "      <td>689</td>\n",
       "      <td>679</td>\n",
       "      <td>0</td>\n",
       "    </tr>\n",
       "  </tbody>\n",
       "</table>\n",
       "<p>5 rows × 24 columns</p>\n",
       "</div>"
      ],
      "text/plain": [
       "    LIMIT_BAL  SEX  EDUCATION  MARRIAGE  AGE  PAY_0  PAY_2  PAY_3  PAY_4  \\\n",
       "ID                                                                         \n",
       "1       20000    2          2         1   24      2      2     -1     -1   \n",
       "2      120000    2          2         2   26     -1      2      0      0   \n",
       "3       90000    2          2         2   34      0      0      0      0   \n",
       "4       50000    2          2         1   37      0      0      0      0   \n",
       "5       50000    1          2         1   57     -1      0     -1      0   \n",
       "\n",
       "    PAY_5  ...  BILL_AMT4  BILL_AMT5  BILL_AMT6  PAY_AMT1  PAY_AMT2  PAY_AMT3  \\\n",
       "ID         ...                                                                  \n",
       "1      -2  ...          0          0          0         0       689         0   \n",
       "2       0  ...       3272       3455       3261         0      1000      1000   \n",
       "3       0  ...      14331      14948      15549      1518      1500      1000   \n",
       "4       0  ...      28314      28959      29547      2000      2019      1200   \n",
       "5       0  ...      20940      19146      19131      2000     36681     10000   \n",
       "\n",
       "    PAY_AMT4  PAY_AMT5  PAY_AMT6  default payment next month  \n",
       "ID                                                            \n",
       "1          0         0         0                           1  \n",
       "2       1000         0      2000                           1  \n",
       "3       1000      1000      5000                           0  \n",
       "4       1100      1069      1000                           0  \n",
       "5       9000       689       679                           0  \n",
       "\n",
       "[5 rows x 24 columns]"
      ]
     },
     "execution_count": 2,
     "metadata": {},
     "output_type": "execute_result"
    }
   ],
   "source": [
    "#  Импорт данных\n",
    "\n",
    "df = pd.read_excel('default of credit card clients.xls', index_col=0, skiprows=1)\n",
    "\n",
    "df.head()"
   ]
  },
  {
   "cell_type": "code",
   "execution_count": 3,
   "id": "coastal-seventh",
   "metadata": {},
   "outputs": [
    {
     "data": {
      "text/plain": [
       "Index(['LIMIT_BAL', 'SEX', 'EDUCATION', 'MARRIAGE', 'AGE', 'PAY_0', 'PAY_2',\n",
       "       'PAY_3', 'PAY_4', 'PAY_5', 'PAY_6', 'BILL_AMT1', 'BILL_AMT2',\n",
       "       'BILL_AMT3', 'BILL_AMT4', 'BILL_AMT5', 'BILL_AMT6', 'PAY_AMT1',\n",
       "       'PAY_AMT2', 'PAY_AMT3', 'PAY_AMT4', 'PAY_AMT5', 'PAY_AMT6',\n",
       "       'default payment next month'],\n",
       "      dtype='object')"
      ]
     },
     "execution_count": 3,
     "metadata": {},
     "output_type": "execute_result"
    }
   ],
   "source": [
    "df.columns"
   ]
  },
  {
   "cell_type": "code",
   "execution_count": 4,
   "id": "aggressive-developer",
   "metadata": {},
   "outputs": [
    {
     "data": {
      "text/plain": [
       "0    23364\n",
       "1     6636\n",
       "Name: default payment next month, dtype: int64"
      ]
     },
     "execution_count": 4,
     "metadata": {},
     "output_type": "execute_result"
    }
   ],
   "source": [
    "#  сбалансирована ли выборка?\n",
    "\n",
    "df['default payment next month'].value_counts()"
   ]
  },
  {
   "cell_type": "markdown",
   "id": "frozen-attachment",
   "metadata": {},
   "source": [
    "Количество экземпляров в классе 0 больше чем в классе 1 в 3,5 раза. Сбалансирую выборку с помощью resample."
   ]
  },
  {
   "cell_type": "code",
   "execution_count": 5,
   "id": "ecc57f29",
   "metadata": {},
   "outputs": [
    {
     "data": {
      "text/plain": [
       "0    10364\n",
       "1     6636\n",
       "Name: default payment next month, dtype: int64"
      ]
     },
     "execution_count": 5,
     "metadata": {},
     "output_type": "execute_result"
    }
   ],
   "source": [
    "from sklearn.utils import resample\n",
    "\n",
    "# разделю выборку по двум классам\n",
    "\n",
    "df_majority = df[df['default payment next month'] == 0]\n",
    "df_minority = df[df['default payment next month'] == 1]\n",
    "\n",
    "# из каждого класса выберу число экземпляров\n",
    "\n",
    "df_majority_downsampled = resample(df_majority,\n",
    "                                   replace=True,\n",
    "                                   n_samples=10364)\n",
    "\n",
    "df_minority_downsampled = resample(df_minority,\n",
    "                                   replace=True,\n",
    "                                   n_samples=6636)\n",
    "\n",
    "# объединяют все в общую выборку\n",
    "\n",
    "df_downsampled = pd.concat([df_minority_downsampled, df_majority_downsampled])\n",
    "\n",
    "df_downsampled['default payment next month'].value_counts()"
   ]
  },
  {
   "cell_type": "code",
   "execution_count": 6,
   "id": "corresponding-chest",
   "metadata": {},
   "outputs": [
    {
     "data": {
      "text/plain": [
       "(17000, 24)"
      ]
     },
     "execution_count": 6,
     "metadata": {},
     "output_type": "execute_result"
    }
   ],
   "source": [
    "df = df_downsampled\n",
    "df.shape"
   ]
  },
  {
   "cell_type": "code",
   "execution_count": 7,
   "id": "better-rebecca",
   "metadata": {},
   "outputs": [],
   "source": [
    "#  разделяю предикоторы и отклики\n",
    "\n",
    "X = df.iloc[:, :-1].values  \n",
    "y = df.iloc[:, 23].values "
   ]
  },
  {
   "cell_type": "code",
   "execution_count": 8,
   "id": "diagnostic-accommodation",
   "metadata": {},
   "outputs": [
    {
     "data": {
      "text/plain": [
       "array([1, 1, 1, ..., 0, 0, 0], dtype=int64)"
      ]
     },
     "execution_count": 8,
     "metadata": {},
     "output_type": "execute_result"
    }
   ],
   "source": [
    "#  проверяю себя\n",
    "y"
   ]
  },
  {
   "cell_type": "code",
   "execution_count": 9,
   "id": "durable-tourism",
   "metadata": {},
   "outputs": [],
   "source": [
    "#  разделяю на обучающую и тестовую выборку\n",
    "\n",
    "X_train, X_test, y_train, y_test = train_test_split(X, y, test_size=0.33, random_state = 1234)"
   ]
  },
  {
   "cell_type": "code",
   "execution_count": 10,
   "id": "vietnamese-cuisine",
   "metadata": {},
   "outputs": [],
   "source": [
    "#  Стандартизация предикторов\n",
    "\n",
    "scaler = StandardScaler()   #   среднее 0, ст.отклонение 1\n",
    "\n",
    "scaler.fit(X_train)\n",
    "\n",
    "X_train_2 = scaler.transform(X_train)  \n",
    "X_test_2 = scaler.transform(X_test)  "
   ]
  },
  {
   "cell_type": "code",
   "execution_count": 11,
   "id": "broke-particle",
   "metadata": {},
   "outputs": [],
   "source": [
    "#  Определяем оптимальное число ближайших соседей\n",
    "#  Число ближайших соседей меняем от 1 до 20\n",
    "#  Каждый раз считаем долю ошибок\n",
    "\n",
    "#  error - доля ошибок при разных к\n",
    "\n",
    "error_rate = [-9999]*20     #  вместо append. Готовим вектор результатов \n",
    "\n",
    "for i in range(1, 21):  \n",
    "    knn_res = KNeighborsClassifier(n_neighbors=i)\n",
    "    knn_res.fit(X_train_2, y_train)\n",
    "    pred_i = knn_res.predict(X_test_2)\n",
    "    error_rate[i-1]= np.mean(pred_i != y_test)"
   ]
  },
  {
   "cell_type": "code",
   "execution_count": 12,
   "id": "serial-architect",
   "metadata": {},
   "outputs": [
    {
     "name": "stdout",
     "output_type": "stream",
     "text": [
      "[0.21 0.26 0.27 0.27 0.27 0.28 0.27 0.27 0.27 0.27 0.27 0.27 0.27 0.27\n",
      " 0.27 0.27 0.27 0.27 0.27 0.27]\n"
     ]
    }
   ],
   "source": [
    "#  Посмотрим на долю ошибок при разных к\n",
    "\n",
    "print(np.round_(error_rate, 2))"
   ]
  },
  {
   "cell_type": "code",
   "execution_count": 13,
   "id": "cosmetic-internship",
   "metadata": {},
   "outputs": [
    {
     "data": {
      "text/plain": [
       "Text(0, 0.5, 'Доля ошибок')"
      ]
     },
     "execution_count": 13,
     "metadata": {},
     "output_type": "execute_result"
    },
    {
     "data": {
      "image/png": "[encoded data removed]",
      "text/plain": [
       "<Figure size 864x432 with 1 Axes>"
      ]
     },
     "metadata": {
      "needs_background": "light"
     },
     "output_type": "display_data"
    }
   ],
   "source": [
    "plt.figure(figsize=(12, 6))  \n",
    "plt.plot(range(1, 21), error_rate, color='red', linestyle='dashed', marker='o',  \n",
    "         markerfacecolor='blue', markersize=10)\n",
    "\n",
    "plt.title(u'Доля ошибок для разных К')  \n",
    "plt.xlabel(u'Значение K')  \n",
    "plt.ylabel(u'Доля ошибок') "
   ]
  },
  {
   "cell_type": "markdown",
   "id": "considered-trunk",
   "metadata": {},
   "source": [
    "Опираясь на график, выбираю значение k равное 5."
   ]
  },
  {
   "cell_type": "code",
   "execution_count": 14,
   "id": "statutory-secretariat",
   "metadata": {},
   "outputs": [
    {
     "data": {
      "text/plain": [
       "KNeighborsClassifier(n_jobs=1)"
      ]
     },
     "execution_count": 14,
     "metadata": {},
     "output_type": "execute_result"
    }
   ],
   "source": [
    "#  Построение классификатора\n",
    "#  Число соседей - 5\n",
    "#  По умолчанию Евклидово расстояние\n",
    "\n",
    "classifier = KNeighborsClassifier(n_neighbors=5, \n",
    "        algorithm='auto',\n",
    "        leaf_size=30,\n",
    "        metric='minkowski',\n",
    "        p=2,\n",
    "        metric_params=None,\n",
    "        n_jobs=1,\n",
    "        weights='uniform')  \n",
    "classifier.fit(X_train_2, y_train)  "
   ]
  },
  {
   "cell_type": "code",
   "execution_count": 15,
   "id": "responsible-remove",
   "metadata": {},
   "outputs": [],
   "source": [
    "#  Используем классификатор на обучающей и тестовой выборках\n",
    "\n",
    "y_pred_train = classifier.predict(X_train_2)  \n",
    "y_pred_test = classifier.predict(X_test_2)"
   ]
  },
  {
   "cell_type": "code",
   "execution_count": 16,
   "id": "particular-tours",
   "metadata": {},
   "outputs": [
    {
     "name": "stdout",
     "output_type": "stream",
     "text": [
      "Таблица сопряженности для обучающей выборки\n"
     ]
    },
    {
     "data": {
      "text/html": [
       "<div>\n",
       "<style scoped>\n",
       "    .dataframe tbody tr th:only-of-type {\n",
       "        vertical-align: middle;\n",
       "    }\n",
       "\n",
       "    .dataframe tbody tr th {\n",
       "        vertical-align: top;\n",
       "    }\n",
       "\n",
       "    .dataframe thead th {\n",
       "        text-align: right;\n",
       "    }\n",
       "</style>\n",
       "<table border=\"1\" class=\"dataframe\">\n",
       "  <thead>\n",
       "    <tr style=\"text-align: right;\">\n",
       "      <th></th>\n",
       "      <th>0</th>\n",
       "      <th>1</th>\n",
       "    </tr>\n",
       "  </thead>\n",
       "  <tbody>\n",
       "    <tr>\n",
       "      <th>0</th>\n",
       "      <td>6008</td>\n",
       "      <td>938</td>\n",
       "    </tr>\n",
       "    <tr>\n",
       "      <th>1</th>\n",
       "      <td>1196</td>\n",
       "      <td>3248</td>\n",
       "    </tr>\n",
       "  </tbody>\n",
       "</table>\n",
       "</div>"
      ],
      "text/plain": [
       "      0     1\n",
       "0  6008   938\n",
       "1  1196  3248"
      ]
     },
     "execution_count": 16,
     "metadata": {},
     "output_type": "execute_result"
    }
   ],
   "source": [
    "#  Измеряем, насколько хороша модель\n",
    "\n",
    "print(u'Таблица сопряженности для обучающей выборки')\n",
    "conf_mat = confusion_matrix(y_train, y_pred_train)\n",
    "\n",
    "conf_mat_train = pd.DataFrame(conf_mat, index=classifier.classes_, columns=classifier.classes_)\n",
    "conf_mat_train"
   ]
  },
  {
   "cell_type": "code",
   "execution_count": 17,
   "id": "medieval-diabetes",
   "metadata": {},
   "outputs": [
    {
     "name": "stdout",
     "output_type": "stream",
     "text": [
      "Accuracy на обучающей выборке 0.8126426690079017\n"
     ]
    }
   ],
   "source": [
    "print('Accuracy на обучающей выборке', accuracy_score(y_train, y_pred_train, normalize=True))"
   ]
  },
  {
   "cell_type": "code",
   "execution_count": 18,
   "id": "supported-client",
   "metadata": {},
   "outputs": [
    {
     "name": "stdout",
     "output_type": "stream",
     "text": [
      "              precision    recall  f1-score   support\n",
      "\n",
      "           0       0.86      0.83      0.85      7204\n",
      "           1       0.73      0.78      0.75      4186\n",
      "\n",
      "    accuracy                           0.81     11390\n",
      "   macro avg       0.80      0.80      0.80     11390\n",
      "weighted avg       0.82      0.81      0.81     11390\n",
      "\n"
     ]
    }
   ],
   "source": [
    "print(classification_report(y_pred_train, y_train))"
   ]
  },
  {
   "cell_type": "code",
   "execution_count": 19,
   "id": "proud-catch",
   "metadata": {},
   "outputs": [
    {
     "name": "stdout",
     "output_type": "stream",
     "text": [
      "Таблица сопряженности для тестовой выборки\n"
     ]
    },
    {
     "data": {
      "text/html": [
       "<div>\n",
       "<style scoped>\n",
       "    .dataframe tbody tr th:only-of-type {\n",
       "        vertical-align: middle;\n",
       "    }\n",
       "\n",
       "    .dataframe tbody tr th {\n",
       "        vertical-align: top;\n",
       "    }\n",
       "\n",
       "    .dataframe thead th {\n",
       "        text-align: right;\n",
       "    }\n",
       "</style>\n",
       "<table border=\"1\" class=\"dataframe\">\n",
       "  <thead>\n",
       "    <tr style=\"text-align: right;\">\n",
       "      <th></th>\n",
       "      <th>0</th>\n",
       "      <th>1</th>\n",
       "    </tr>\n",
       "  </thead>\n",
       "  <tbody>\n",
       "    <tr>\n",
       "      <th>0</th>\n",
       "      <td>2733</td>\n",
       "      <td>685</td>\n",
       "    </tr>\n",
       "    <tr>\n",
       "      <th>1</th>\n",
       "      <td>846</td>\n",
       "      <td>1346</td>\n",
       "    </tr>\n",
       "  </tbody>\n",
       "</table>\n",
       "</div>"
      ],
      "text/plain": [
       "      0     1\n",
       "0  2733   685\n",
       "1   846  1346"
      ]
     },
     "execution_count": 19,
     "metadata": {},
     "output_type": "execute_result"
    }
   ],
   "source": [
    "print(u'Таблица сопряженности для тестовой выборки')\n",
    "\n",
    "conf_mat = confusion_matrix(y_test, y_pred_test)\n",
    "\n",
    "conf_mat_test = pd.DataFrame(conf_mat, index=classifier.classes_, columns=classifier.classes_)\n",
    "conf_mat_test"
   ]
  },
  {
   "cell_type": "code",
   "execution_count": 20,
   "id": "recorded-damage",
   "metadata": {},
   "outputs": [
    {
     "name": "stdout",
     "output_type": "stream",
     "text": [
      "Accuracy на тестовой выборке 0.7270944741532976\n"
     ]
    }
   ],
   "source": [
    "print('Accuracy на тестовой выборке', accuracy_score(y_test, y_pred_test, normalize=True))"
   ]
  },
  {
   "cell_type": "code",
   "execution_count": 21,
   "id": "hispanic-moses",
   "metadata": {},
   "outputs": [
    {
     "name": "stdout",
     "output_type": "stream",
     "text": [
      "              precision    recall  f1-score   support\n",
      "\n",
      "           0       0.80      0.76      0.78      3579\n",
      "           1       0.61      0.66      0.64      2031\n",
      "\n",
      "    accuracy                           0.73      5610\n",
      "   macro avg       0.71      0.71      0.71      5610\n",
      "weighted avg       0.73      0.73      0.73      5610\n",
      "\n"
     ]
    }
   ],
   "source": [
    "print(classification_report(y_pred_test, y_test))"
   ]
  },
  {
   "cell_type": "markdown",
   "id": "limited-contents",
   "metadata": {},
   "source": [
    "**Вывод:** accuracy на обучающей выборке равна 81%, на тестовой - 73%. Разница в 8% показывает, что есть небольшое переобучение. Также метрики качества говорят о том, что precision у класса 0 выше, чем у класса 1 даже после балансировки классов."
   ]
  },
  {
   "cell_type": "code",
   "execution_count": null,
   "id": "boring-samba",
   "metadata": {},
   "outputs": [],
   "source": []
  }
 ],
 "metadata": {
  "kernelspec": {
   "display_name": "Python 3",
   "language": "python",
   "name": "python3"
  },
  "language_info": {
   "codemirror_mode": {
    "name": "ipython",
    "version": 3
   },
   "file_extension": ".py",
   "mimetype": "text/x-python",
   "name": "python",
   "nbconvert_exporter": "python",
   "pygments_lexer": "ipython3",
   "version": "3.7.10"
  }
 },
 "nbformat": 4,
 "nbformat_minor": 5
}
