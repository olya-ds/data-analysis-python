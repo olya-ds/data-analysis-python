{
 "cells": [
  {
   "cell_type": "markdown",
   "id": "saved-auction",
   "metadata": {},
   "source": [
    "# Иерфрхическая кластеризация\n",
    "\n",
    "**Данные:** Экономика городов\n",
    "\n",
    "**Задание:** \n",
    "- Определить число кластеров и обосновать свой выбор\n",
    "- Разбить объекты на кластеры\n",
    "- Предложить и обосновать интерпертацию кластеров"
   ]
  },
  {
   "cell_type": "code",
   "execution_count": 1,
   "id": "technological-short",
   "metadata": {},
   "outputs": [],
   "source": [
    "import numpy as np\n",
    "import pandas as pd\n",
    "\n",
    "import matplotlib\n",
    "import matplotlib.pyplot as plt\n",
    "\n",
    "import os"
   ]
  },
  {
   "cell_type": "code",
   "execution_count": 3,
   "id": "orange-tracy",
   "metadata": {},
   "outputs": [
    {
     "data": {
      "text/html": [
       "<div>\n",
       "<style scoped>\n",
       "    .dataframe tbody tr th:only-of-type {\n",
       "        vertical-align: middle;\n",
       "    }\n",
       "\n",
       "    .dataframe tbody tr th {\n",
       "        vertical-align: top;\n",
       "    }\n",
       "\n",
       "    .dataframe thead th {\n",
       "        text-align: right;\n",
       "    }\n",
       "</style>\n",
       "<table border=\"1\" class=\"dataframe\">\n",
       "  <thead>\n",
       "    <tr style=\"text-align: right;\">\n",
       "      <th></th>\n",
       "      <th>Work</th>\n",
       "      <th>Price</th>\n",
       "      <th>Salary</th>\n",
       "    </tr>\n",
       "    <tr>\n",
       "      <th>City</th>\n",
       "      <th></th>\n",
       "      <th></th>\n",
       "      <th></th>\n",
       "    </tr>\n",
       "  </thead>\n",
       "  <tbody>\n",
       "    <tr>\n",
       "      <th>Amsterdam</th>\n",
       "      <td>1714</td>\n",
       "      <td>65.6</td>\n",
       "      <td>49.0</td>\n",
       "    </tr>\n",
       "    <tr>\n",
       "      <th>Athens</th>\n",
       "      <td>1792</td>\n",
       "      <td>53.8</td>\n",
       "      <td>30.4</td>\n",
       "    </tr>\n",
       "    <tr>\n",
       "      <th>Bogota</th>\n",
       "      <td>2152</td>\n",
       "      <td>37.9</td>\n",
       "      <td>11.5</td>\n",
       "    </tr>\n",
       "    <tr>\n",
       "      <th>Bombay</th>\n",
       "      <td>2052</td>\n",
       "      <td>30.3</td>\n",
       "      <td>5.3</td>\n",
       "    </tr>\n",
       "    <tr>\n",
       "      <th>Brussels</th>\n",
       "      <td>1708</td>\n",
       "      <td>73.8</td>\n",
       "      <td>50.5</td>\n",
       "    </tr>\n",
       "  </tbody>\n",
       "</table>\n",
       "</div>"
      ],
      "text/plain": [
       "           Work  Price  Salary\n",
       "City                          \n",
       "Amsterdam  1714   65.6    49.0\n",
       "Athens     1792   53.8    30.4\n",
       "Bogota     2152   37.9    11.5\n",
       "Bombay     2052   30.3     5.3\n",
       "Brussels   1708   73.8    50.5"
      ]
     },
     "execution_count": 3,
     "metadata": {},
     "output_type": "execute_result"
    }
   ],
   "source": [
    "df = pd.read_csv(\"Econom_Cities_data.csv\", sep=\";\", decimal=',', index_col='City')\n",
    "df.head()"
   ]
  },
  {
   "cell_type": "code",
   "execution_count": 4,
   "id": "ideal-quarter",
   "metadata": {},
   "outputs": [
    {
     "name": "stdout",
     "output_type": "stream",
     "text": [
      "                Work  Price  Salary\n",
      "City                               \n",
      "Amsterdam       1714   65.6    49.0\n",
      "Athens          1792   53.8    30.4\n",
      "Bogota          2152   37.9    11.5\n",
      "Bombay          2052   30.3     5.3\n",
      "Brussels        1708   73.8    50.5\n",
      "Buenos_Aires    1971   56.1    12.5\n",
      "Cairo          -9999   37.1 -9999.0\n",
      "Caracas         2041   61.0    10.9\n",
      "Chicago         1924   73.9    61.9\n",
      "Copenhagen      1717   91.3    62.9\n",
      "Dublin          1759   76.0    41.4\n",
      "Dusseldorf      1693   78.5    60.2\n",
      "Frankfurt       1650   74.5    60.4\n",
      "Geneva          1880   95.9    90.3\n",
      "Helsinki        1667  113.6    66.6\n",
      "Hong_Kong       2375   63.8    27.8\n",
      "Houston         1978   71.9    46.3\n",
      "Jakarta        -9999   43.6 -9999.0\n",
      "Johannesburg    1945   51.1    24.0\n",
      "Kuala_Lumpur    2167   43.5     9.9\n",
      "Lagos           1786   45.2     2.7\n",
      "Lisbon          1742   56.2    18.8\n",
      "London          1737   84.2    46.2\n",
      "Los_Angeles     2068   79.8    65.2\n",
      "Luxembourg      1768   71.1    71.1\n",
      "Madrid          1710   93.8    50.0\n",
      "Manila          2268   40.0     4.0\n",
      "Mexico_City     1944   49.8     5.7\n",
      "Milan           1773   82.0    53.3\n",
      "Montreal        1827   72.7    56.3\n",
      "Nairobi         1958   45.0     5.8\n",
      "New_York        1942   83.3    65.8\n",
      "Nicosia         1825   47.9    28.3\n",
      "Oslo            1583  115.5    63.7\n",
      "Panama          2078   49.2    13.8\n",
      "Paris           1744   81.6    45.9\n",
      "Rio_de_Janeiro  1749   46.3    10.5\n",
      "San_Paulo       1856   48.9    11.1\n",
      "Seoul           1842   58.3    32.7\n",
      "Singpore        2042   64.4    16.1\n",
      "Stockholm       1805  111.3    39.2\n",
      "Sydney          1668   70.8    52.1\n",
      "Taipei          2145   84.3    34.5\n",
      "Tel_Aviv        2015   67.3    27.0\n",
      "Tokyo           1880  115.0    68.0\n",
      "Toronto         1888   70.2    58.2\n",
      "Vienna          1780   78.0    51.3\n",
      "Zurich          1868  100.0   100.0\n"
     ]
    }
   ],
   "source": [
    "# постмотрю всю таблицу с данными\n",
    "\n",
    "print(df)"
   ]
  },
  {
   "cell_type": "markdown",
   "id": "conventional-commission",
   "metadata": {},
   "source": [
    "В странах Cairo и Jakarta значения среднего числа рабочих часов и средняя зарплата за час работы равны -9999. Возможно, в данных какая-то ошибка. Они помешают для дальнейшего анализа, поэтому удалю данные строки."
   ]
  },
  {
   "cell_type": "code",
   "execution_count": 5,
   "id": "fallen-monitor",
   "metadata": {},
   "outputs": [
    {
     "data": {
      "text/html": [
       "<div>\n",
       "<style scoped>\n",
       "    .dataframe tbody tr th:only-of-type {\n",
       "        vertical-align: middle;\n",
       "    }\n",
       "\n",
       "    .dataframe tbody tr th {\n",
       "        vertical-align: top;\n",
       "    }\n",
       "\n",
       "    .dataframe thead th {\n",
       "        text-align: right;\n",
       "    }\n",
       "</style>\n",
       "<table border=\"1\" class=\"dataframe\">\n",
       "  <thead>\n",
       "    <tr style=\"text-align: right;\">\n",
       "      <th></th>\n",
       "      <th>Work</th>\n",
       "      <th>Price</th>\n",
       "      <th>Salary</th>\n",
       "    </tr>\n",
       "    <tr>\n",
       "      <th>City</th>\n",
       "      <th></th>\n",
       "      <th></th>\n",
       "      <th></th>\n",
       "    </tr>\n",
       "  </thead>\n",
       "  <tbody>\n",
       "    <tr>\n",
       "      <th>Amsterdam</th>\n",
       "      <td>1714</td>\n",
       "      <td>65.6</td>\n",
       "      <td>49.0</td>\n",
       "    </tr>\n",
       "    <tr>\n",
       "      <th>Athens</th>\n",
       "      <td>1792</td>\n",
       "      <td>53.8</td>\n",
       "      <td>30.4</td>\n",
       "    </tr>\n",
       "    <tr>\n",
       "      <th>Bogota</th>\n",
       "      <td>2152</td>\n",
       "      <td>37.9</td>\n",
       "      <td>11.5</td>\n",
       "    </tr>\n",
       "    <tr>\n",
       "      <th>Bombay</th>\n",
       "      <td>2052</td>\n",
       "      <td>30.3</td>\n",
       "      <td>5.3</td>\n",
       "    </tr>\n",
       "    <tr>\n",
       "      <th>Brussels</th>\n",
       "      <td>1708</td>\n",
       "      <td>73.8</td>\n",
       "      <td>50.5</td>\n",
       "    </tr>\n",
       "    <tr>\n",
       "      <th>Buenos_Aires</th>\n",
       "      <td>1971</td>\n",
       "      <td>56.1</td>\n",
       "      <td>12.5</td>\n",
       "    </tr>\n",
       "    <tr>\n",
       "      <th>Caracas</th>\n",
       "      <td>2041</td>\n",
       "      <td>61.0</td>\n",
       "      <td>10.9</td>\n",
       "    </tr>\n",
       "    <tr>\n",
       "      <th>Chicago</th>\n",
       "      <td>1924</td>\n",
       "      <td>73.9</td>\n",
       "      <td>61.9</td>\n",
       "    </tr>\n",
       "    <tr>\n",
       "      <th>Copenhagen</th>\n",
       "      <td>1717</td>\n",
       "      <td>91.3</td>\n",
       "      <td>62.9</td>\n",
       "    </tr>\n",
       "    <tr>\n",
       "      <th>Dublin</th>\n",
       "      <td>1759</td>\n",
       "      <td>76.0</td>\n",
       "      <td>41.4</td>\n",
       "    </tr>\n",
       "    <tr>\n",
       "      <th>Dusseldorf</th>\n",
       "      <td>1693</td>\n",
       "      <td>78.5</td>\n",
       "      <td>60.2</td>\n",
       "    </tr>\n",
       "    <tr>\n",
       "      <th>Frankfurt</th>\n",
       "      <td>1650</td>\n",
       "      <td>74.5</td>\n",
       "      <td>60.4</td>\n",
       "    </tr>\n",
       "    <tr>\n",
       "      <th>Geneva</th>\n",
       "      <td>1880</td>\n",
       "      <td>95.9</td>\n",
       "      <td>90.3</td>\n",
       "    </tr>\n",
       "    <tr>\n",
       "      <th>Helsinki</th>\n",
       "      <td>1667</td>\n",
       "      <td>113.6</td>\n",
       "      <td>66.6</td>\n",
       "    </tr>\n",
       "    <tr>\n",
       "      <th>Hong_Kong</th>\n",
       "      <td>2375</td>\n",
       "      <td>63.8</td>\n",
       "      <td>27.8</td>\n",
       "    </tr>\n",
       "    <tr>\n",
       "      <th>Houston</th>\n",
       "      <td>1978</td>\n",
       "      <td>71.9</td>\n",
       "      <td>46.3</td>\n",
       "    </tr>\n",
       "    <tr>\n",
       "      <th>Johannesburg</th>\n",
       "      <td>1945</td>\n",
       "      <td>51.1</td>\n",
       "      <td>24.0</td>\n",
       "    </tr>\n",
       "    <tr>\n",
       "      <th>Kuala_Lumpur</th>\n",
       "      <td>2167</td>\n",
       "      <td>43.5</td>\n",
       "      <td>9.9</td>\n",
       "    </tr>\n",
       "    <tr>\n",
       "      <th>Lagos</th>\n",
       "      <td>1786</td>\n",
       "      <td>45.2</td>\n",
       "      <td>2.7</td>\n",
       "    </tr>\n",
       "    <tr>\n",
       "      <th>Lisbon</th>\n",
       "      <td>1742</td>\n",
       "      <td>56.2</td>\n",
       "      <td>18.8</td>\n",
       "    </tr>\n",
       "    <tr>\n",
       "      <th>London</th>\n",
       "      <td>1737</td>\n",
       "      <td>84.2</td>\n",
       "      <td>46.2</td>\n",
       "    </tr>\n",
       "    <tr>\n",
       "      <th>Los_Angeles</th>\n",
       "      <td>2068</td>\n",
       "      <td>79.8</td>\n",
       "      <td>65.2</td>\n",
       "    </tr>\n",
       "    <tr>\n",
       "      <th>Luxembourg</th>\n",
       "      <td>1768</td>\n",
       "      <td>71.1</td>\n",
       "      <td>71.1</td>\n",
       "    </tr>\n",
       "    <tr>\n",
       "      <th>Madrid</th>\n",
       "      <td>1710</td>\n",
       "      <td>93.8</td>\n",
       "      <td>50.0</td>\n",
       "    </tr>\n",
       "    <tr>\n",
       "      <th>Manila</th>\n",
       "      <td>2268</td>\n",
       "      <td>40.0</td>\n",
       "      <td>4.0</td>\n",
       "    </tr>\n",
       "    <tr>\n",
       "      <th>Mexico_City</th>\n",
       "      <td>1944</td>\n",
       "      <td>49.8</td>\n",
       "      <td>5.7</td>\n",
       "    </tr>\n",
       "    <tr>\n",
       "      <th>Milan</th>\n",
       "      <td>1773</td>\n",
       "      <td>82.0</td>\n",
       "      <td>53.3</td>\n",
       "    </tr>\n",
       "    <tr>\n",
       "      <th>Montreal</th>\n",
       "      <td>1827</td>\n",
       "      <td>72.7</td>\n",
       "      <td>56.3</td>\n",
       "    </tr>\n",
       "    <tr>\n",
       "      <th>Nairobi</th>\n",
       "      <td>1958</td>\n",
       "      <td>45.0</td>\n",
       "      <td>5.8</td>\n",
       "    </tr>\n",
       "    <tr>\n",
       "      <th>New_York</th>\n",
       "      <td>1942</td>\n",
       "      <td>83.3</td>\n",
       "      <td>65.8</td>\n",
       "    </tr>\n",
       "    <tr>\n",
       "      <th>Nicosia</th>\n",
       "      <td>1825</td>\n",
       "      <td>47.9</td>\n",
       "      <td>28.3</td>\n",
       "    </tr>\n",
       "    <tr>\n",
       "      <th>Oslo</th>\n",
       "      <td>1583</td>\n",
       "      <td>115.5</td>\n",
       "      <td>63.7</td>\n",
       "    </tr>\n",
       "    <tr>\n",
       "      <th>Panama</th>\n",
       "      <td>2078</td>\n",
       "      <td>49.2</td>\n",
       "      <td>13.8</td>\n",
       "    </tr>\n",
       "    <tr>\n",
       "      <th>Paris</th>\n",
       "      <td>1744</td>\n",
       "      <td>81.6</td>\n",
       "      <td>45.9</td>\n",
       "    </tr>\n",
       "    <tr>\n",
       "      <th>Rio_de_Janeiro</th>\n",
       "      <td>1749</td>\n",
       "      <td>46.3</td>\n",
       "      <td>10.5</td>\n",
       "    </tr>\n",
       "    <tr>\n",
       "      <th>San_Paulo</th>\n",
       "      <td>1856</td>\n",
       "      <td>48.9</td>\n",
       "      <td>11.1</td>\n",
       "    </tr>\n",
       "    <tr>\n",
       "      <th>Seoul</th>\n",
       "      <td>1842</td>\n",
       "      <td>58.3</td>\n",
       "      <td>32.7</td>\n",
       "    </tr>\n",
       "    <tr>\n",
       "      <th>Singpore</th>\n",
       "      <td>2042</td>\n",
       "      <td>64.4</td>\n",
       "      <td>16.1</td>\n",
       "    </tr>\n",
       "    <tr>\n",
       "      <th>Stockholm</th>\n",
       "      <td>1805</td>\n",
       "      <td>111.3</td>\n",
       "      <td>39.2</td>\n",
       "    </tr>\n",
       "    <tr>\n",
       "      <th>Sydney</th>\n",
       "      <td>1668</td>\n",
       "      <td>70.8</td>\n",
       "      <td>52.1</td>\n",
       "    </tr>\n",
       "    <tr>\n",
       "      <th>Taipei</th>\n",
       "      <td>2145</td>\n",
       "      <td>84.3</td>\n",
       "      <td>34.5</td>\n",
       "    </tr>\n",
       "    <tr>\n",
       "      <th>Tel_Aviv</th>\n",
       "      <td>2015</td>\n",
       "      <td>67.3</td>\n",
       "      <td>27.0</td>\n",
       "    </tr>\n",
       "    <tr>\n",
       "      <th>Tokyo</th>\n",
       "      <td>1880</td>\n",
       "      <td>115.0</td>\n",
       "      <td>68.0</td>\n",
       "    </tr>\n",
       "    <tr>\n",
       "      <th>Toronto</th>\n",
       "      <td>1888</td>\n",
       "      <td>70.2</td>\n",
       "      <td>58.2</td>\n",
       "    </tr>\n",
       "    <tr>\n",
       "      <th>Vienna</th>\n",
       "      <td>1780</td>\n",
       "      <td>78.0</td>\n",
       "      <td>51.3</td>\n",
       "    </tr>\n",
       "    <tr>\n",
       "      <th>Zurich</th>\n",
       "      <td>1868</td>\n",
       "      <td>100.0</td>\n",
       "      <td>100.0</td>\n",
       "    </tr>\n",
       "  </tbody>\n",
       "</table>\n",
       "</div>"
      ],
      "text/plain": [
       "                Work  Price  Salary\n",
       "City                               \n",
       "Amsterdam       1714   65.6    49.0\n",
       "Athens          1792   53.8    30.4\n",
       "Bogota          2152   37.9    11.5\n",
       "Bombay          2052   30.3     5.3\n",
       "Brussels        1708   73.8    50.5\n",
       "Buenos_Aires    1971   56.1    12.5\n",
       "Caracas         2041   61.0    10.9\n",
       "Chicago         1924   73.9    61.9\n",
       "Copenhagen      1717   91.3    62.9\n",
       "Dublin          1759   76.0    41.4\n",
       "Dusseldorf      1693   78.5    60.2\n",
       "Frankfurt       1650   74.5    60.4\n",
       "Geneva          1880   95.9    90.3\n",
       "Helsinki        1667  113.6    66.6\n",
       "Hong_Kong       2375   63.8    27.8\n",
       "Houston         1978   71.9    46.3\n",
       "Johannesburg    1945   51.1    24.0\n",
       "Kuala_Lumpur    2167   43.5     9.9\n",
       "Lagos           1786   45.2     2.7\n",
       "Lisbon          1742   56.2    18.8\n",
       "London          1737   84.2    46.2\n",
       "Los_Angeles     2068   79.8    65.2\n",
       "Luxembourg      1768   71.1    71.1\n",
       "Madrid          1710   93.8    50.0\n",
       "Manila          2268   40.0     4.0\n",
       "Mexico_City     1944   49.8     5.7\n",
       "Milan           1773   82.0    53.3\n",
       "Montreal        1827   72.7    56.3\n",
       "Nairobi         1958   45.0     5.8\n",
       "New_York        1942   83.3    65.8\n",
       "Nicosia         1825   47.9    28.3\n",
       "Oslo            1583  115.5    63.7\n",
       "Panama          2078   49.2    13.8\n",
       "Paris           1744   81.6    45.9\n",
       "Rio_de_Janeiro  1749   46.3    10.5\n",
       "San_Paulo       1856   48.9    11.1\n",
       "Seoul           1842   58.3    32.7\n",
       "Singpore        2042   64.4    16.1\n",
       "Stockholm       1805  111.3    39.2\n",
       "Sydney          1668   70.8    52.1\n",
       "Taipei          2145   84.3    34.5\n",
       "Tel_Aviv        2015   67.3    27.0\n",
       "Tokyo           1880  115.0    68.0\n",
       "Toronto         1888   70.2    58.2\n",
       "Vienna          1780   78.0    51.3\n",
       "Zurich          1868  100.0   100.0"
      ]
     },
     "execution_count": 5,
     "metadata": {},
     "output_type": "execute_result"
    }
   ],
   "source": [
    "df = df.drop(['Cairo','Jakarta'],axis = 0)\n",
    "df"
   ]
  },
  {
   "cell_type": "markdown",
   "id": "motivated-communications",
   "metadata": {},
   "source": [
    "Нужна стандартизация так как значения в столбце с рабочими часами намного больше чем в столбцах с ценами и зарплатами."
   ]
  },
  {
   "cell_type": "code",
   "execution_count": 6,
   "id": "welcome-machinery",
   "metadata": {},
   "outputs": [],
   "source": [
    "from sklearn import preprocessing\n",
    "\n",
    "stand = preprocessing.StandardScaler()\n",
    "#stand = preprocessing.MinMaxScaler()\n",
    "#stand = preprocessing.MaxAbsScaler()\n",
    "\n",
    "stand.fit(df)\n",
    "X = stand.transform(df)\n",
    "\n",
    "X = pd.DataFrame(X, index=df.index, columns=df.columns)"
   ]
  },
  {
   "cell_type": "code",
   "execution_count": 7,
   "id": "inclusive-transcript",
   "metadata": {},
   "outputs": [
    {
     "data": {
      "text/html": [
       "<div>\n",
       "<style scoped>\n",
       "    .dataframe tbody tr th:only-of-type {\n",
       "        vertical-align: middle;\n",
       "    }\n",
       "\n",
       "    .dataframe tbody tr th {\n",
       "        vertical-align: top;\n",
       "    }\n",
       "\n",
       "    .dataframe thead th {\n",
       "        text-align: right;\n",
       "    }\n",
       "</style>\n",
       "<table border=\"1\" class=\"dataframe\">\n",
       "  <thead>\n",
       "    <tr style=\"text-align: right;\">\n",
       "      <th></th>\n",
       "      <th>Work</th>\n",
       "      <th>Price</th>\n",
       "      <th>Salary</th>\n",
       "    </tr>\n",
       "    <tr>\n",
       "      <th>City</th>\n",
       "      <th></th>\n",
       "      <th></th>\n",
       "      <th></th>\n",
       "    </tr>\n",
       "  </thead>\n",
       "  <tbody>\n",
       "    <tr>\n",
       "      <th>Amsterdam</th>\n",
       "      <td>-0.962166</td>\n",
       "      <td>-0.212712</td>\n",
       "      <td>0.386095</td>\n",
       "    </tr>\n",
       "    <tr>\n",
       "      <th>Athens</th>\n",
       "      <td>-0.509827</td>\n",
       "      <td>-0.770489</td>\n",
       "      <td>-0.373488</td>\n",
       "    </tr>\n",
       "    <tr>\n",
       "      <th>Bogota</th>\n",
       "      <td>1.577891</td>\n",
       "      <td>-1.522069</td>\n",
       "      <td>-1.145323</td>\n",
       "    </tr>\n",
       "    <tr>\n",
       "      <th>Bombay</th>\n",
       "      <td>0.997969</td>\n",
       "      <td>-1.881316</td>\n",
       "      <td>-1.398517</td>\n",
       "    </tr>\n",
       "    <tr>\n",
       "      <th>Brussels</th>\n",
       "      <td>-0.996961</td>\n",
       "      <td>0.174896</td>\n",
       "      <td>0.447351</td>\n",
       "    </tr>\n",
       "  </tbody>\n",
       "</table>\n",
       "</div>"
      ],
      "text/plain": [
       "               Work     Price    Salary\n",
       "City                                   \n",
       "Amsterdam -0.962166 -0.212712  0.386095\n",
       "Athens    -0.509827 -0.770489 -0.373488\n",
       "Bogota     1.577891 -1.522069 -1.145323\n",
       "Bombay     0.997969 -1.881316 -1.398517\n",
       "Brussels  -0.996961  0.174896  0.447351"
      ]
     },
     "execution_count": 7,
     "metadata": {},
     "output_type": "execute_result"
    }
   ],
   "source": [
    "X.head()"
   ]
  },
  {
   "cell_type": "code",
   "execution_count": 8,
   "id": "soviet-visibility",
   "metadata": {},
   "outputs": [],
   "source": [
    "from scipy.cluster.hierarchy import dendrogram, linkage, fcluster"
   ]
  },
  {
   "cell_type": "code",
   "execution_count": 9,
   "id": "secret-general",
   "metadata": {},
   "outputs": [
    {
     "data": {
      "image/png": "[encoded data removed]",
      "text/plain": [
       "<Figure size 1080x1080 with 1 Axes>"
      ]
     },
     "metadata": {
      "needs_background": "light"
     },
     "output_type": "display_data"
    }
   ],
   "source": [
    "link = linkage(X, 'ward', 'euclidean')\n",
    "\n",
    "fig = plt.figure(figsize=(15,15))\n",
    "dn = dendrogram(link,\n",
    "                labels=X.index.tolist(),\n",
    "                color_threshold = 3.5)"
   ]
  },
  {
   "cell_type": "markdown",
   "id": "surface-danish",
   "metadata": {},
   "source": [
    "Скачок в расстояниях между объединяемыми кластерами происходит, примерно, на уровне 3.5. Поэтому задала порог для расстояния = 3.5, цветом выделилось 5 кластеров."
   ]
  },
  {
   "cell_type": "code",
   "execution_count": 10,
   "id": "embedded-weekend",
   "metadata": {},
   "outputs": [],
   "source": [
    "# добавлю к таблице с данными столбец с номером кластера\n",
    "\n",
    "df['cluster'] = fcluster(link, 3.5, criterion='distance')"
   ]
  },
  {
   "cell_type": "code",
   "execution_count": 11,
   "id": "lucky-migration",
   "metadata": {},
   "outputs": [
    {
     "data": {
      "text/html": [
       "<div>\n",
       "<style scoped>\n",
       "    .dataframe tbody tr th:only-of-type {\n",
       "        vertical-align: middle;\n",
       "    }\n",
       "\n",
       "    .dataframe tbody tr th {\n",
       "        vertical-align: top;\n",
       "    }\n",
       "\n",
       "    .dataframe thead th {\n",
       "        text-align: right;\n",
       "    }\n",
       "</style>\n",
       "<table border=\"1\" class=\"dataframe\">\n",
       "  <thead>\n",
       "    <tr style=\"text-align: right;\">\n",
       "      <th></th>\n",
       "      <th>Work</th>\n",
       "      <th>Price</th>\n",
       "      <th>Salary</th>\n",
       "    </tr>\n",
       "    <tr>\n",
       "      <th>cluster</th>\n",
       "      <th></th>\n",
       "      <th></th>\n",
       "      <th></th>\n",
       "    </tr>\n",
       "  </thead>\n",
       "  <tbody>\n",
       "    <tr>\n",
       "      <th>1</th>\n",
       "      <td>1780.500000</td>\n",
       "      <td>108.550000</td>\n",
       "      <td>71.300000</td>\n",
       "    </tr>\n",
       "    <tr>\n",
       "      <th>2</th>\n",
       "      <td>1960.000000</td>\n",
       "      <td>75.820000</td>\n",
       "      <td>59.480000</td>\n",
       "    </tr>\n",
       "    <tr>\n",
       "      <th>3</th>\n",
       "      <td>1732.000000</td>\n",
       "      <td>78.135714</td>\n",
       "      <td>53.614286</td>\n",
       "    </tr>\n",
       "    <tr>\n",
       "      <th>4</th>\n",
       "      <td>1798.857143</td>\n",
       "      <td>50.942857</td>\n",
       "      <td>19.214286</td>\n",
       "    </tr>\n",
       "    <tr>\n",
       "      <th>5</th>\n",
       "      <td>2082.357143</td>\n",
       "      <td>53.121429</td>\n",
       "      <td>14.914286</td>\n",
       "    </tr>\n",
       "  </tbody>\n",
       "</table>\n",
       "</div>"
      ],
      "text/plain": [
       "                Work       Price     Salary\n",
       "cluster                                    \n",
       "1        1780.500000  108.550000  71.300000\n",
       "2        1960.000000   75.820000  59.480000\n",
       "3        1732.000000   78.135714  53.614286\n",
       "4        1798.857143   50.942857  19.214286\n",
       "5        2082.357143   53.121429  14.914286"
      ]
     },
     "execution_count": 11,
     "metadata": {},
     "output_type": "execute_result"
    }
   ],
   "source": [
    "# сгруппирую данные по номеру кластера и для каждого значения посчитаю среднее\n",
    "\n",
    "df.groupby('cluster').mean()"
   ]
  },
  {
   "cell_type": "code",
   "execution_count": 12,
   "id": "contemporary-extension",
   "metadata": {},
   "outputs": [
    {
     "data": {
      "text/plain": [
       "array(['Geneva', 'Helsinki', 'Oslo', 'Stockholm', 'Tokyo', 'Zurich'],\n",
       "      dtype=object)"
      ]
     },
     "execution_count": 12,
     "metadata": {},
     "output_type": "execute_result"
    }
   ],
   "source": [
    "# какие города попали в 1 кластер?\n",
    "\n",
    "df[df['cluster']==1].index.values"
   ]
  },
  {
   "cell_type": "markdown",
   "id": "available-killer",
   "metadata": {},
   "source": [
    "В первый кластер попали города Скандинавских стран, а также Швейцарии и японский Токио. Эти города отличаются сильной экономикой, поэтому там самые высокие средние цены и самые высокие заработные платы."
   ]
  },
  {
   "cell_type": "code",
   "execution_count": 13,
   "id": "anticipated-iceland",
   "metadata": {},
   "outputs": [
    {
     "data": {
      "text/plain": [
       "array(['Chicago', 'Houston', 'Los_Angeles', 'New_York', 'Toronto'],\n",
       "      dtype=object)"
      ]
     },
     "execution_count": 13,
     "metadata": {},
     "output_type": "execute_result"
    }
   ],
   "source": [
    "df[df['cluster']==2].index.values"
   ]
  },
  {
   "cell_type": "markdown",
   "id": "alive-appointment",
   "metadata": {},
   "source": [
    "Во второй кластер попали самые густонаселенные города США и крупнейший город Канады - Торонто. Все эти города расположены в Северной Америке. Их экономические показатели говорят о том, что люди там больше работают, но имеют более низкие цены и зарплаты по сравнению с 1 кластером."
   ]
  },
  {
   "cell_type": "code",
   "execution_count": 14,
   "id": "rental-operator",
   "metadata": {},
   "outputs": [
    {
     "data": {
      "text/plain": [
       "array(['Amsterdam', 'Brussels', 'Copenhagen', 'Dublin', 'Dusseldorf',\n",
       "       'Frankfurt', 'London', 'Luxembourg', 'Madrid', 'Milan', 'Montreal',\n",
       "       'Paris', 'Sydney', 'Vienna'], dtype=object)"
      ]
     },
     "execution_count": 14,
     "metadata": {},
     "output_type": "execute_result"
    }
   ],
   "source": [
    "df[df['cluster']==3].index.values"
   ]
  },
  {
   "cell_type": "markdown",
   "id": "advised-amsterdam",
   "metadata": {},
   "source": [
    "В третий кластор вошли, в основном, города Европы, а также канадский Монреаль и австралийский Сидней. Это города с хорошей экономикой. Здесь в среднем у людей меньшее количество часов работы, высокие цены и средние зарплаты."
   ]
  },
  {
   "cell_type": "code",
   "execution_count": 15,
   "id": "southern-chemistry",
   "metadata": {},
   "outputs": [
    {
     "data": {
      "text/plain": [
       "array(['Athens', 'Lagos', 'Lisbon', 'Nicosia', 'Rio_de_Janeiro',\n",
       "       'San_Paulo', 'Seoul'], dtype=object)"
      ]
     },
     "execution_count": 15,
     "metadata": {},
     "output_type": "execute_result"
    }
   ],
   "source": [
    "df[df['cluster']==4].index.values"
   ]
  },
  {
   "cell_type": "markdown",
   "id": "mexican-official",
   "metadata": {},
   "source": [
    "В данном кластере города-порты. Исключением является кипрская столица Никосия и корейский Сеул. Здесь невысокое среднее количество рабочих часов, низкте цены, но средняя зарплата маленькая, боллее чем в 2.5 раза ниже цен."
   ]
  },
  {
   "cell_type": "code",
   "execution_count": 16,
   "id": "institutional-destination",
   "metadata": {},
   "outputs": [
    {
     "data": {
      "text/plain": [
       "array(['Bogota', 'Bombay', 'Buenos_Aires', 'Caracas', 'Hong_Kong',\n",
       "       'Johannesburg', 'Kuala_Lumpur', 'Manila', 'Mexico_City', 'Nairobi',\n",
       "       'Panama', 'Singpore', 'Taipei', 'Tel_Aviv'], dtype=object)"
      ]
     },
     "execution_count": 16,
     "metadata": {},
     "output_type": "execute_result"
    }
   ],
   "source": [
    "df[df['cluster']==5].index.values"
   ]
  },
  {
   "cell_type": "markdown",
   "id": "mexican-external",
   "metadata": {},
   "source": [
    "В пятом кластере города со всех континентов, но их объединяет густонаселенность. Мест всем не хватает, поэтому люди работают много часов и имеют низкие заработные платы в сравнении с ценами на товары. Сингапур и Гонконг в 19991 году еще только набирали обороты в росте экономики, поэтому попали в данные кластер. Сейчас это города с одни из самых высоких ВВП в мире."
   ]
  },
  {
   "cell_type": "markdown",
   "id": "opposed-blame",
   "metadata": {},
   "source": [
    "**Вывод:** В предоставленных данных я выделила 5 кластеров, каждый из которых попыталась проинтерпретировать и объяснить что их объединяет."
   ]
  },
  {
   "cell_type": "code",
   "execution_count": null,
   "id": "current-startup",
   "metadata": {},
   "outputs": [],
   "source": []
  }
 ],
 "metadata": {
  "kernelspec": {
   "display_name": "Python 3",
   "language": "python",
   "name": "python3"
  },
  "language_info": {
   "codemirror_mode": {
    "name": "ipython",
    "version": 3
   },
   "file_extension": ".py",
   "mimetype": "text/x-python",
   "name": "python",
   "nbconvert_exporter": "python",
   "pygments_lexer": "ipython3",
   "version": "3.7.10"
  }
 },
 "nbformat": 4,
 "nbformat_minor": 5
}
