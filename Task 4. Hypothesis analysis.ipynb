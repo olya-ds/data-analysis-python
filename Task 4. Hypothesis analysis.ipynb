{
 "cells": [
  {
   "cell_type": "markdown",
   "id": "explicit-fundamental",
   "metadata": {},
   "source": [
    "# Анализ гипотез"
   ]
  },
  {
   "cell_type": "markdown",
   "id": "lined-queen",
   "metadata": {},
   "source": [
    "## Задача №1\n",
    "\n",
    "**Данные:** Nursing Home Data\n",
    "\n",
    "**Задание:** Сравнить расходы больниц за год (сотни долларов) расположенных за городом и в городе."
   ]
  },
  {
   "cell_type": "code",
   "execution_count": 1,
   "id": "cross-rainbow",
   "metadata": {},
   "outputs": [],
   "source": [
    "import pandas as pd\n",
    "import numpy as np\n",
    "import matplotlib\n",
    "import matplotlib.pyplot as plt\n",
    "\n",
    "matplotlib.style.use('ggplot')\n",
    "%matplotlib inline\n",
    "\n",
    "import warnings\n",
    "warnings.filterwarnings(action='ignore')"
   ]
  },
  {
   "cell_type": "code",
   "execution_count": 2,
   "id": "prerequisite-quantum",
   "metadata": {},
   "outputs": [],
   "source": [
    "from scipy import stats"
   ]
  },
  {
   "cell_type": "code",
   "execution_count": 4,
   "id": "posted-century",
   "metadata": {},
   "outputs": [
    {
     "data": {
      "text/html": [
       "<div>\n",
       "<style scoped>\n",
       "    .dataframe tbody tr th:only-of-type {\n",
       "        vertical-align: middle;\n",
       "    }\n",
       "\n",
       "    .dataframe tbody tr th {\n",
       "        vertical-align: top;\n",
       "    }\n",
       "\n",
       "    .dataframe thead th {\n",
       "        text-align: right;\n",
       "    }\n",
       "</style>\n",
       "<table border=\"1\" class=\"dataframe\">\n",
       "  <thead>\n",
       "    <tr style=\"text-align: right;\">\n",
       "      <th></th>\n",
       "      <th>BED</th>\n",
       "      <th>MCDAYS</th>\n",
       "      <th>TDAYS</th>\n",
       "      <th>PCREV</th>\n",
       "      <th>NSAL</th>\n",
       "      <th>FEXP</th>\n",
       "      <th>RURAL</th>\n",
       "    </tr>\n",
       "  </thead>\n",
       "  <tbody>\n",
       "    <tr>\n",
       "      <th>0</th>\n",
       "      <td>244</td>\n",
       "      <td>128</td>\n",
       "      <td>385</td>\n",
       "      <td>23521</td>\n",
       "      <td>5230</td>\n",
       "      <td>5334</td>\n",
       "      <td>0</td>\n",
       "    </tr>\n",
       "    <tr>\n",
       "      <th>1</th>\n",
       "      <td>59</td>\n",
       "      <td>155</td>\n",
       "      <td>203</td>\n",
       "      <td>9160</td>\n",
       "      <td>2459</td>\n",
       "      <td>493</td>\n",
       "      <td>1</td>\n",
       "    </tr>\n",
       "    <tr>\n",
       "      <th>2</th>\n",
       "      <td>120</td>\n",
       "      <td>281</td>\n",
       "      <td>392</td>\n",
       "      <td>21900</td>\n",
       "      <td>6304</td>\n",
       "      <td>6115</td>\n",
       "      <td>0</td>\n",
       "    </tr>\n",
       "    <tr>\n",
       "      <th>3</th>\n",
       "      <td>120</td>\n",
       "      <td>291</td>\n",
       "      <td>419</td>\n",
       "      <td>22354</td>\n",
       "      <td>6590</td>\n",
       "      <td>6346</td>\n",
       "      <td>0</td>\n",
       "    </tr>\n",
       "    <tr>\n",
       "      <th>4</th>\n",
       "      <td>120</td>\n",
       "      <td>238</td>\n",
       "      <td>363</td>\n",
       "      <td>17421</td>\n",
       "      <td>5362</td>\n",
       "      <td>6225</td>\n",
       "      <td>0</td>\n",
       "    </tr>\n",
       "  </tbody>\n",
       "</table>\n",
       "</div>"
      ],
      "text/plain": [
       "   BED  MCDAYS  TDAYS  PCREV  NSAL  FEXP  RURAL\n",
       "0  244     128    385  23521  5230  5334      0\n",
       "1   59     155    203   9160  2459   493      1\n",
       "2  120     281    392  21900  6304  6115      0\n",
       "3  120     291    419  22354  6590  6346      0\n",
       "4  120     238    363  17421  5362  6225      0"
      ]
     },
     "execution_count": 4,
     "metadata": {},
     "output_type": "execute_result"
    }
   ],
   "source": [
    "df = pd.read_csv('Nursing Home Data_data.csv', sep='\\s+')\n",
    "df.head()"
   ]
  },
  {
   "cell_type": "markdown",
   "id": "neural-detective",
   "metadata": {},
   "source": [
    "**Основная гипотеза:** расходы больниц за год в городе и за городом равны\n",
    "\n",
    "**Альтернативная гипотеза:** расходы больниц за год в городе и за городом неравны\n",
    "\n",
    "Выборки не парные. Предварительно нужно проверить нормальность данных и равенство дисперсий"
   ]
  },
  {
   "cell_type": "markdown",
   "id": "substantial-conjunction",
   "metadata": {},
   "source": [
    "Сохраню в отдельные переменные выборки, которые собираюсь сравнивать"
   ]
  },
  {
   "cell_type": "code",
   "execution_count": 5,
   "id": "broad-amsterdam",
   "metadata": {},
   "outputs": [],
   "source": [
    "x = df[df['RURAL'] == 0]['FEXP']\n",
    "y = df[df['RURAL'] == 1]['FEXP']\n",
    "x.name, y.name = 'городская', 'загородная'"
   ]
  },
  {
   "cell_type": "markdown",
   "id": "premier-philadelphia",
   "metadata": {},
   "source": [
    "Проверяю нормальность распределений"
   ]
  },
  {
   "cell_type": "code",
   "execution_count": 6,
   "id": "dimensional-christianity",
   "metadata": {},
   "outputs": [],
   "source": [
    "def two_histograms(x, y):\n",
    "    \"\"\"\n",
    "    Функция, которая построит две гистограммы на одной картинке.\n",
    "    Дополнительно пунктирными линиями указываются средние значения выборок.\n",
    "    x: вектор pd.Series,\n",
    "    y: вектор pd.Series\n",
    "    \"\"\"\n",
    "    x.hist(alpha=0.5, weights=[1./len(x)]*len(x))\n",
    "    y.hist(alpha=0.5, weights=[1./len(y)]*len(y))\n",
    "    plt.axvline(x.mean(), color='red', alpha=0.8, linestyle='dashed')\n",
    "    plt.axvline(y.mean(), color='blue', alpha=0.8, linestyle='dashed')\n",
    "    plt.legend([x.name, y.name])"
   ]
  },
  {
   "cell_type": "code",
   "execution_count": 7,
   "id": "convertible-gabriel",
   "metadata": {},
   "outputs": [
    {
     "data": {
      "image/png": "[encoded data removed]",
      "text/plain": [
       "<Figure size 432x288 with 1 Axes>"
      ]
     },
     "metadata": {
      "needs_background": "light"
     },
     "output_type": "display_data"
    }
   ],
   "source": [
    "two_histograms(x, y)"
   ]
  },
  {
   "cell_type": "markdown",
   "id": "supreme-madagascar",
   "metadata": {},
   "source": [
    "Распределение значений далеко от нормального распределению что не позволяет применить критерий Стьюдента. Голубая гистограмма имеет скачок в районе 1000, а далее идет плавный спад плотности распределения, но гистограмма сильно асимметрична. Краснная гистограмма имеет высокую плотность в начале и конце распредления и пробелы в плотности, нет колокообразной формы.<br> Можно поробовать применить непараметрические критерии. Так как у меня в разных выборках находятся разные объекты (больницы), применю критерий Манна-Уитни."
   ]
  },
  {
   "cell_type": "code",
   "execution_count": 8,
   "id": "facial-header",
   "metadata": {},
   "outputs": [
    {
     "name": "stdout",
     "output_type": "stream",
     "text": [
      "p-value: 0.26594759448891914\n"
     ]
    }
   ],
   "source": [
    "res = stats.mannwhitneyu(x, y)\n",
    "print('p-value:', res[1])"
   ]
  },
  {
   "cell_type": "markdown",
   "id": "identified-recording",
   "metadata": {},
   "source": [
    "p-value получилось достаточно большим, поэтому у меня нет оснований отвергнуть основную гипотезу. Вывод: расходы больниц за год в городе и за городом различаются незначительно."
   ]
  },
  {
   "cell_type": "markdown",
   "id": "serious-coffee",
   "metadata": {},
   "source": [
    "## Задача №2\n",
    "\n",
    "**Данные:** Unions and State Labor Law\n",
    "\n",
    "**Задание:** Сравнить штаты США на 1982 год, в которых принят закон State right-to-work law (код 1) и те, в которых закон не принят (код 0)."
   ]
  },
  {
   "cell_type": "code",
   "execution_count": 9,
   "id": "unlimited-south",
   "metadata": {},
   "outputs": [],
   "source": [
    "os.chdir(\"C:/Users/oibuz/Documents/Repository/analysis-data-python/\")"
   ]
  },
  {
   "cell_type": "code",
   "execution_count": 10,
   "id": "under-tissue",
   "metadata": {},
   "outputs": [
    {
     "data": {
      "text/html": [
       "<div>\n",
       "<style scoped>\n",
       "    .dataframe tbody tr th:only-of-type {\n",
       "        vertical-align: middle;\n",
       "    }\n",
       "\n",
       "    .dataframe tbody tr th {\n",
       "        vertical-align: top;\n",
       "    }\n",
       "\n",
       "    .dataframe thead th {\n",
       "        text-align: right;\n",
       "    }\n",
       "</style>\n",
       "<table border=\"1\" class=\"dataframe\">\n",
       "  <thead>\n",
       "    <tr style=\"text-align: right;\">\n",
       "      <th></th>\n",
       "      <th>STATE</th>\n",
       "      <th>DENS</th>\n",
       "      <th>COMP</th>\n",
       "      <th>RTW</th>\n",
       "      <th>PVT</th>\n",
       "    </tr>\n",
       "  </thead>\n",
       "  <tbody>\n",
       "    <tr>\n",
       "      <th>0</th>\n",
       "      <td>NY</td>\n",
       "      <td>56.9</td>\n",
       "      <td>1</td>\n",
       "      <td>0</td>\n",
       "      <td>31.2</td>\n",
       "    </tr>\n",
       "    <tr>\n",
       "      <th>1</th>\n",
       "      <td>MI</td>\n",
       "      <td>49.6</td>\n",
       "      <td>1</td>\n",
       "      <td>0</td>\n",
       "      <td>30.2</td>\n",
       "    </tr>\n",
       "    <tr>\n",
       "      <th>2</th>\n",
       "      <td>WA</td>\n",
       "      <td>32.4</td>\n",
       "      <td>1</td>\n",
       "      <td>0</td>\n",
       "      <td>33.1</td>\n",
       "    </tr>\n",
       "    <tr>\n",
       "      <th>3</th>\n",
       "      <td>HI</td>\n",
       "      <td>54.6</td>\n",
       "      <td>1</td>\n",
       "      <td>0</td>\n",
       "      <td>24.7</td>\n",
       "    </tr>\n",
       "    <tr>\n",
       "      <th>4</th>\n",
       "      <td>AK</td>\n",
       "      <td>30.7</td>\n",
       "      <td>1</td>\n",
       "      <td>0</td>\n",
       "      <td>30.1</td>\n",
       "    </tr>\n",
       "  </tbody>\n",
       "</table>\n",
       "</div>"
      ],
      "text/plain": [
       "  STATE  DENS  COMP  RTW   PVT\n",
       "0    NY  56.9     1    0  31.2\n",
       "1    MI  49.6     1    0  30.2\n",
       "2    WA  32.4     1    0  33.1\n",
       "3    HI  54.6     1    0  24.7\n",
       "4    AK  30.7     1    0  30.1"
      ]
     },
     "execution_count": 10,
     "metadata": {},
     "output_type": "execute_result"
    }
   ],
   "source": [
    "df_2 = pd.read_csv('Unions and State Labor Law_data', sep='\\s+')\n",
    "df_2.head()"
   ]
  },
  {
   "cell_type": "markdown",
   "id": "exciting-singer",
   "metadata": {},
   "source": [
    "**Основная гипотеза:** проценты муниципальных служащих, состоящих в профсоюзах в 1982 в штатах США, в которых принят закон State right-to-work law и те, в которых такой закон не принят, равны\n",
    "\n",
    "**Альтернативная гипотеза:** проценты муниципальных служащих, состоящих в профсоюзах в 1982 в штатах США, в которых принят закон State right-to-work law и те, в которых такой закон не принят, неравны\n",
    "\n",
    "Выборки не парные. Предварительно нужно проверить нормальность данных и равенство дисперсий"
   ]
  },
  {
   "cell_type": "code",
   "execution_count": 11,
   "id": "obvious-celebrity",
   "metadata": {},
   "outputs": [],
   "source": [
    "x_2 = df_2[df_2['RTW'] == 0]['DENS']\n",
    "y_2 = df_2[df_2['RTW'] == 1]['DENS']\n",
    "x_2.name, y_2.name = 'не принят', 'принят'"
   ]
  },
  {
   "cell_type": "code",
   "execution_count": 12,
   "id": "minus-aerospace",
   "metadata": {},
   "outputs": [
    {
     "data": {
      "image/png": "[encoded data removed]",
      "text/plain": [
       "<Figure size 432x288 with 1 Axes>"
      ]
     },
     "metadata": {
      "needs_background": "light"
     },
     "output_type": "display_data"
    }
   ],
   "source": [
    "two_histograms(x_2, y_2)"
   ]
  },
  {
   "cell_type": "markdown",
   "id": "fifth-dialogue",
   "metadata": {},
   "source": [
    "По гистограммам видно, что плотности распределений похожи на нормальные. В первой (красной) гистограмме присутствует ассиметрия, много значений скопилось в конце и рост в центре резкий, но виден колоколообразный силуэт. В голубой гистограмме также прослеживается вид нормального распределения, несмотря на пробел в плотности. Поэтому буду пользоваться критерием Стьюдента.<br>\n",
    "<br>\n",
    "Критерием Флигнера-Килина проверим, равны ли дисперсии."
   ]
  },
  {
   "cell_type": "code",
   "execution_count": 13,
   "id": "accompanied-winner",
   "metadata": {},
   "outputs": [
    {
     "name": "stdout",
     "output_type": "stream",
     "text": [
      "p-value: 0.12569758439648204\n"
     ]
    }
   ],
   "source": [
    "res_2 = stats.fligner(x_2, y_2)\n",
    "print('p-value:', res_2[1])"
   ]
  },
  {
   "cell_type": "markdown",
   "id": "local-stuart",
   "metadata": {},
   "source": [
    "Значение p-value больше уровня значимости 0.05, поэтому гипотезу о равенстве дисперсий не отвергаем. В двух выборках находятся разные  объекты, значит выборки независимые. Вывод: гипотезу о равенстве средних значений будем проверять с помощью ```ttest_ind``` с опцией ```equal_var=True```."
   ]
  },
  {
   "cell_type": "code",
   "execution_count": 14,
   "id": "whole-teens",
   "metadata": {},
   "outputs": [
    {
     "name": "stdout",
     "output_type": "stream",
     "text": [
      "p-value:  9.287017631717846e-05\n"
     ]
    }
   ],
   "source": [
    "res_2 = stats.ttest_ind(x_2, y_2, equal_var=True)\n",
    "print('p-value: ', res_2[1])"
   ]
  },
  {
   "cell_type": "markdown",
   "id": "middle-choir",
   "metadata": {},
   "source": [
    "Значение p-value сильно меньше уровня значимости, поэтому есть основания отвергнуть основную гипотезу. Вывод: проценты муниципальных служащих в профсоюзах в 1982 в штатах США, в которых принят закон State right-to-work law **ниже** чем в тех, в которых такой закон не принят. \n",
    "\n",
    "Согласно закону State right-to-work law, работникам на рабочих местах, объединенных в профсоюзы, запрещается заключать контракты, которые требуют, чтобы работники, не являющиеся членами профсоюзов, оплачивали расходы, связанные с представительством профсоюзов. Соответственно, принятие такого закона не выгодно муниципальным служащим, состоящим в профсоюзах. И в штатах,где процент таких муниципальных служащих выше, такой закон принимался реже."
   ]
  }
 ],
 "metadata": {
  "kernelspec": {
   "display_name": "Python 3",
   "language": "python",
   "name": "python3"
  },
  "language_info": {
   "codemirror_mode": {
    "name": "ipython",
    "version": 3
   },
   "file_extension": ".py",
   "mimetype": "text/x-python",
   "name": "python",
   "nbconvert_exporter": "python",
   "pygments_lexer": "ipython3",
   "version": "3.7.10"
  }
 },
 "nbformat": 4,
 "nbformat_minor": 5
}
